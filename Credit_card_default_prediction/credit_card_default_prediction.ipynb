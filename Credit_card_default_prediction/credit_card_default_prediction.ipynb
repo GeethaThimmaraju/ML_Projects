{
 "cells": [
  {
   "cell_type": "code",
   "execution_count": null,
   "id": "02b6f22c",
   "metadata": {},
   "outputs": [],
   "source": [
    "import pandas as pd\n",
    "import matplotlib.pyplot as plt\n",
    "from sklearn.model_selection import train_test_split\n",
    "from sklearn.preprocessing import StandardScaler\n",
    "from sklearn.linear_model import LogisticRegression\n",
    "from sklearn.neighbors import KNeighborsClassifier\n",
    "from sklearn.svm import SVC\n",
    "from sklearn.metrics import accuracy_score, classification_report, ConfusionMatrixDisplay"
   ]
  },
  {
   "cell_type": "code",
   "execution_count": null,
   "id": "330eefec",
   "metadata": {},
   "outputs": [],
   "source": [
    "# Load the CSV file\n",
    "df = pd.read_csv(r\"C:\\Users\\Geetha\\OneDrive\\Documents\\default of credit card clients.csv\", header=1)\n",
    "\n",
    "# Drop ID column and convert to numeric\n",
    "df = df.drop(columns=[\"ID\"])\n",
    "df = df.apply(pd.to_numeric)\n",
    "\n",
    "# Split into X and y\n",
    "X = df.drop(columns=[\"default payment next month\"])\n",
    "y = df[\"default payment next month\"]\n",
    "\n",
    "# Train-test split\n",
    "X_train, X_test, y_train, y_test = train_test_split(X, y, test_size=0.2, random_state=0)\n",
    "\n",
    "# Feature scaling\n",
    "scaler = StandardScaler()\n",
    "X_train_scaled = scaler.fit_transform(X_train)\n",
    "X_test_scaled = scaler.transform(X_test)"
   ]
  },
  {
   "cell_type": "code",
   "execution_count": null,
   "id": "3d6d93c9",
   "metadata": {},
   "outputs": [],
   "source": [
    "# Train models\n",
    "lr = LogisticRegression(class_weight='balanced')\n",
    "lr.fit(X_train_scaled, y_train)\n",
    "\n",
    "knn = KNeighborsClassifier(n_neighbors=5)\n",
    "knn.fit(X_train_scaled, y_train)\n",
    "\n",
    "svm = SVC(class_weight='balanced')\n",
    "svm.fit(X_train_scaled, y_train)"
   ]
  },
  {
   "cell_type": "code",
   "execution_count": null,
   "id": "7df3012c",
   "metadata": {},
   "outputs": [],
   "source": [
    "# Evaluate models\n",
    "models = {\"Logistic Regression\": lr, \"KNN\": knn, \"SVM\": svm}\n",
    "\n",
    "for name, model in models.items():\n",
    "    y_pred = model.predict(X_test_scaled)\n",
    "    print(f\"\\n{name} Accuracy:\", accuracy_score(y_test, y_pred))\n",
    "    print(f\"{name} Classification Report:\\n\", classification_report(y_test, y_pred))\n",
    "    ConfusionMatrixDisplay.from_estimator(model, X_test_scaled, y_test)\n",
    "    plt.title(f\"{name} Confusion Matrix\")\n",
    "    plt.show()"
   ]
  }
 ],
 "metadata": {},
 "nbformat": 4,
 "nbformat_minor": 5
}